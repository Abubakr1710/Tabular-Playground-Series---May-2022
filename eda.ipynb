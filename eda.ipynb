{
 "cells": [
  {
   "cell_type": "code",
   "execution_count": 66,
   "metadata": {},
   "outputs": [],
   "source": [
    "import pandas as pd\n",
    "import matplotlib.pyplot as plt\n",
    "import seaborn as sns"
   ]
  },
  {
   "cell_type": "code",
   "execution_count": 67,
   "metadata": {},
   "outputs": [],
   "source": [
    "tr_data = pd.read_csv('train.csv')\n",
    "ts_data = pd.read_csv('test.csv')"
   ]
  },
  {
   "cell_type": "code",
   "execution_count": 68,
   "metadata": {},
   "outputs": [
    {
     "name": "stdout",
     "output_type": "stream",
     "text": [
      "train data shape:  (900000, 33)\n",
      "test data shape:  (700000, 32)\n"
     ]
    }
   ],
   "source": [
    "print('train data shape: ', tr_data.shape)\n",
    "print('test data shape: ', ts_data.shape)"
   ]
  },
  {
   "cell_type": "code",
   "execution_count": 69,
   "metadata": {},
   "outputs": [
    {
     "data": {
      "text/plain": [
       "id      0\n",
       "f_16    0\n",
       "f_30    0\n",
       "f_29    0\n",
       "f_28    0\n",
       "f_27    0\n",
       "f_26    0\n",
       "f_25    0\n",
       "f_24    0\n",
       "f_23    0\n",
       "f_22    0\n",
       "f_21    0\n",
       "f_20    0\n",
       "f_19    0\n",
       "f_18    0\n",
       "f_17    0\n",
       "f_15    0\n",
       "f_00    0\n",
       "f_14    0\n",
       "f_13    0\n",
       "dtype: int64"
      ]
     },
     "execution_count": 69,
     "metadata": {},
     "output_type": "execute_result"
    }
   ],
   "source": [
    "tr_data.isnull().sum().sort_values(ascending=False).head(20)"
   ]
  },
  {
   "cell_type": "code",
   "execution_count": 70,
   "metadata": {},
   "outputs": [
    {
     "data": {
      "text/html": [
       "<div>\n",
       "<style scoped>\n",
       "    .dataframe tbody tr th:only-of-type {\n",
       "        vertical-align: middle;\n",
       "    }\n",
       "\n",
       "    .dataframe tbody tr th {\n",
       "        vertical-align: top;\n",
       "    }\n",
       "\n",
       "    .dataframe thead th {\n",
       "        text-align: right;\n",
       "    }\n",
       "</style>\n",
       "<table border=\"1\" class=\"dataframe\">\n",
       "  <thead>\n",
       "    <tr style=\"text-align: right;\">\n",
       "      <th></th>\n",
       "      <th>id</th>\n",
       "      <th>f_00</th>\n",
       "      <th>f_01</th>\n",
       "      <th>f_02</th>\n",
       "      <th>f_03</th>\n",
       "      <th>f_04</th>\n",
       "      <th>f_05</th>\n",
       "      <th>f_06</th>\n",
       "      <th>f_07</th>\n",
       "      <th>f_08</th>\n",
       "      <th>...</th>\n",
       "      <th>f_22</th>\n",
       "      <th>f_23</th>\n",
       "      <th>f_24</th>\n",
       "      <th>f_25</th>\n",
       "      <th>f_26</th>\n",
       "      <th>f_27</th>\n",
       "      <th>f_28</th>\n",
       "      <th>f_29</th>\n",
       "      <th>f_30</th>\n",
       "      <th>target</th>\n",
       "    </tr>\n",
       "  </thead>\n",
       "  <tbody>\n",
       "    <tr>\n",
       "      <th>0</th>\n",
       "      <td>0</td>\n",
       "      <td>-1.373246</td>\n",
       "      <td>0.238887</td>\n",
       "      <td>-0.243376</td>\n",
       "      <td>0.567405</td>\n",
       "      <td>-0.647715</td>\n",
       "      <td>0.839326</td>\n",
       "      <td>0.113133</td>\n",
       "      <td>1</td>\n",
       "      <td>5</td>\n",
       "      <td>...</td>\n",
       "      <td>-2.540739</td>\n",
       "      <td>0.766952</td>\n",
       "      <td>-2.730628</td>\n",
       "      <td>-0.208177</td>\n",
       "      <td>1.363402</td>\n",
       "      <td>ABABDADBAB</td>\n",
       "      <td>67.609153</td>\n",
       "      <td>0</td>\n",
       "      <td>0</td>\n",
       "      <td>0</td>\n",
       "    </tr>\n",
       "    <tr>\n",
       "      <th>1</th>\n",
       "      <td>1</td>\n",
       "      <td>1.697021</td>\n",
       "      <td>-1.710322</td>\n",
       "      <td>-2.230332</td>\n",
       "      <td>-0.545661</td>\n",
       "      <td>1.113173</td>\n",
       "      <td>-1.552175</td>\n",
       "      <td>0.447825</td>\n",
       "      <td>1</td>\n",
       "      <td>3</td>\n",
       "      <td>...</td>\n",
       "      <td>2.278315</td>\n",
       "      <td>-0.633658</td>\n",
       "      <td>-1.217077</td>\n",
       "      <td>-3.782194</td>\n",
       "      <td>-0.058316</td>\n",
       "      <td>ACACCADCEB</td>\n",
       "      <td>377.096415</td>\n",
       "      <td>0</td>\n",
       "      <td>0</td>\n",
       "      <td>1</td>\n",
       "    </tr>\n",
       "    <tr>\n",
       "      <th>2</th>\n",
       "      <td>2</td>\n",
       "      <td>1.681726</td>\n",
       "      <td>0.616746</td>\n",
       "      <td>-1.027689</td>\n",
       "      <td>0.810492</td>\n",
       "      <td>-0.609086</td>\n",
       "      <td>0.113965</td>\n",
       "      <td>-0.708660</td>\n",
       "      <td>1</td>\n",
       "      <td>0</td>\n",
       "      <td>...</td>\n",
       "      <td>-1.385775</td>\n",
       "      <td>-0.520558</td>\n",
       "      <td>-0.009121</td>\n",
       "      <td>2.788536</td>\n",
       "      <td>-3.703488</td>\n",
       "      <td>AAAEABCKAD</td>\n",
       "      <td>-195.599702</td>\n",
       "      <td>0</td>\n",
       "      <td>2</td>\n",
       "      <td>1</td>\n",
       "    </tr>\n",
       "    <tr>\n",
       "      <th>3</th>\n",
       "      <td>3</td>\n",
       "      <td>-0.118172</td>\n",
       "      <td>-0.587835</td>\n",
       "      <td>-0.804638</td>\n",
       "      <td>2.086822</td>\n",
       "      <td>0.371005</td>\n",
       "      <td>-0.128831</td>\n",
       "      <td>-0.282575</td>\n",
       "      <td>3</td>\n",
       "      <td>2</td>\n",
       "      <td>...</td>\n",
       "      <td>0.572594</td>\n",
       "      <td>-1.653213</td>\n",
       "      <td>1.686035</td>\n",
       "      <td>-2.533098</td>\n",
       "      <td>-0.608601</td>\n",
       "      <td>BDBBAACBCB</td>\n",
       "      <td>210.826205</td>\n",
       "      <td>0</td>\n",
       "      <td>0</td>\n",
       "      <td>1</td>\n",
       "    </tr>\n",
       "    <tr>\n",
       "      <th>4</th>\n",
       "      <td>4</td>\n",
       "      <td>1.148481</td>\n",
       "      <td>-0.176567</td>\n",
       "      <td>-0.664871</td>\n",
       "      <td>-1.101343</td>\n",
       "      <td>0.467875</td>\n",
       "      <td>0.500117</td>\n",
       "      <td>0.407515</td>\n",
       "      <td>3</td>\n",
       "      <td>3</td>\n",
       "      <td>...</td>\n",
       "      <td>-3.912929</td>\n",
       "      <td>-1.430366</td>\n",
       "      <td>2.127649</td>\n",
       "      <td>-3.306784</td>\n",
       "      <td>4.371371</td>\n",
       "      <td>BDBCBBCHFE</td>\n",
       "      <td>-217.211798</td>\n",
       "      <td>0</td>\n",
       "      <td>1</td>\n",
       "      <td>1</td>\n",
       "    </tr>\n",
       "    <tr>\n",
       "      <th>5</th>\n",
       "      <td>5</td>\n",
       "      <td>1.349785</td>\n",
       "      <td>1.100418</td>\n",
       "      <td>0.562612</td>\n",
       "      <td>-0.607076</td>\n",
       "      <td>1.264728</td>\n",
       "      <td>0.283515</td>\n",
       "      <td>-1.131953</td>\n",
       "      <td>6</td>\n",
       "      <td>2</td>\n",
       "      <td>...</td>\n",
       "      <td>-2.259781</td>\n",
       "      <td>-1.308329</td>\n",
       "      <td>-2.216110</td>\n",
       "      <td>1.016892</td>\n",
       "      <td>0.273792</td>\n",
       "      <td>BDAEDBDEDA</td>\n",
       "      <td>45.890998</td>\n",
       "      <td>0</td>\n",
       "      <td>1</td>\n",
       "      <td>0</td>\n",
       "    </tr>\n",
       "    <tr>\n",
       "      <th>6</th>\n",
       "      <td>6</td>\n",
       "      <td>1.904853</td>\n",
       "      <td>-0.174135</td>\n",
       "      <td>0.193908</td>\n",
       "      <td>-0.559832</td>\n",
       "      <td>-0.146990</td>\n",
       "      <td>-0.538386</td>\n",
       "      <td>0.270837</td>\n",
       "      <td>2</td>\n",
       "      <td>5</td>\n",
       "      <td>...</td>\n",
       "      <td>-2.832988</td>\n",
       "      <td>2.432185</td>\n",
       "      <td>-1.827240</td>\n",
       "      <td>1.192390</td>\n",
       "      <td>-0.333300</td>\n",
       "      <td>ACBCAAAHHE</td>\n",
       "      <td>358.058637</td>\n",
       "      <td>1</td>\n",
       "      <td>0</td>\n",
       "      <td>1</td>\n",
       "    </tr>\n",
       "    <tr>\n",
       "      <th>7</th>\n",
       "      <td>7</td>\n",
       "      <td>0.889100</td>\n",
       "      <td>0.388168</td>\n",
       "      <td>1.062274</td>\n",
       "      <td>-1.775401</td>\n",
       "      <td>0.852494</td>\n",
       "      <td>0.335741</td>\n",
       "      <td>0.510709</td>\n",
       "      <td>2</td>\n",
       "      <td>3</td>\n",
       "      <td>...</td>\n",
       "      <td>7.956038</td>\n",
       "      <td>2.663890</td>\n",
       "      <td>-0.593400</td>\n",
       "      <td>1.528621</td>\n",
       "      <td>0.972924</td>\n",
       "      <td>BBBDBBEPDB</td>\n",
       "      <td>-113.797366</td>\n",
       "      <td>1</td>\n",
       "      <td>1</td>\n",
       "      <td>0</td>\n",
       "    </tr>\n",
       "    <tr>\n",
       "      <th>8</th>\n",
       "      <td>8</td>\n",
       "      <td>0.866221</td>\n",
       "      <td>0.842351</td>\n",
       "      <td>-1.367634</td>\n",
       "      <td>1.237506</td>\n",
       "      <td>0.682962</td>\n",
       "      <td>0.845666</td>\n",
       "      <td>0.173852</td>\n",
       "      <td>3</td>\n",
       "      <td>2</td>\n",
       "      <td>...</td>\n",
       "      <td>-1.241121</td>\n",
       "      <td>-1.245038</td>\n",
       "      <td>1.696402</td>\n",
       "      <td>0.354545</td>\n",
       "      <td>-0.541267</td>\n",
       "      <td>ACAEBADDAA</td>\n",
       "      <td>-52.223857</td>\n",
       "      <td>0</td>\n",
       "      <td>0</td>\n",
       "      <td>0</td>\n",
       "    </tr>\n",
       "    <tr>\n",
       "      <th>9</th>\n",
       "      <td>9</td>\n",
       "      <td>0.829142</td>\n",
       "      <td>-0.082872</td>\n",
       "      <td>-0.206667</td>\n",
       "      <td>-0.032502</td>\n",
       "      <td>0.366289</td>\n",
       "      <td>0.277981</td>\n",
       "      <td>-1.113467</td>\n",
       "      <td>2</td>\n",
       "      <td>0</td>\n",
       "      <td>...</td>\n",
       "      <td>-3.117106</td>\n",
       "      <td>-3.609328</td>\n",
       "      <td>2.677487</td>\n",
       "      <td>-1.772600</td>\n",
       "      <td>-3.053609</td>\n",
       "      <td>BABCBBBABD</td>\n",
       "      <td>-42.976312</td>\n",
       "      <td>0</td>\n",
       "      <td>0</td>\n",
       "      <td>1</td>\n",
       "    </tr>\n",
       "  </tbody>\n",
       "</table>\n",
       "<p>10 rows × 33 columns</p>\n",
       "</div>"
      ],
      "text/plain": [
       "   id      f_00      f_01      f_02      f_03      f_04      f_05      f_06  \\\n",
       "0   0 -1.373246  0.238887 -0.243376  0.567405 -0.647715  0.839326  0.113133   \n",
       "1   1  1.697021 -1.710322 -2.230332 -0.545661  1.113173 -1.552175  0.447825   \n",
       "2   2  1.681726  0.616746 -1.027689  0.810492 -0.609086  0.113965 -0.708660   \n",
       "3   3 -0.118172 -0.587835 -0.804638  2.086822  0.371005 -0.128831 -0.282575   \n",
       "4   4  1.148481 -0.176567 -0.664871 -1.101343  0.467875  0.500117  0.407515   \n",
       "5   5  1.349785  1.100418  0.562612 -0.607076  1.264728  0.283515 -1.131953   \n",
       "6   6  1.904853 -0.174135  0.193908 -0.559832 -0.146990 -0.538386  0.270837   \n",
       "7   7  0.889100  0.388168  1.062274 -1.775401  0.852494  0.335741  0.510709   \n",
       "8   8  0.866221  0.842351 -1.367634  1.237506  0.682962  0.845666  0.173852   \n",
       "9   9  0.829142 -0.082872 -0.206667 -0.032502  0.366289  0.277981 -1.113467   \n",
       "\n",
       "   f_07  f_08  ...      f_22      f_23      f_24      f_25      f_26  \\\n",
       "0     1     5  ... -2.540739  0.766952 -2.730628 -0.208177  1.363402   \n",
       "1     1     3  ...  2.278315 -0.633658 -1.217077 -3.782194 -0.058316   \n",
       "2     1     0  ... -1.385775 -0.520558 -0.009121  2.788536 -3.703488   \n",
       "3     3     2  ...  0.572594 -1.653213  1.686035 -2.533098 -0.608601   \n",
       "4     3     3  ... -3.912929 -1.430366  2.127649 -3.306784  4.371371   \n",
       "5     6     2  ... -2.259781 -1.308329 -2.216110  1.016892  0.273792   \n",
       "6     2     5  ... -2.832988  2.432185 -1.827240  1.192390 -0.333300   \n",
       "7     2     3  ...  7.956038  2.663890 -0.593400  1.528621  0.972924   \n",
       "8     3     2  ... -1.241121 -1.245038  1.696402  0.354545 -0.541267   \n",
       "9     2     0  ... -3.117106 -3.609328  2.677487 -1.772600 -3.053609   \n",
       "\n",
       "         f_27        f_28  f_29  f_30  target  \n",
       "0  ABABDADBAB   67.609153     0     0       0  \n",
       "1  ACACCADCEB  377.096415     0     0       1  \n",
       "2  AAAEABCKAD -195.599702     0     2       1  \n",
       "3  BDBBAACBCB  210.826205     0     0       1  \n",
       "4  BDBCBBCHFE -217.211798     0     1       1  \n",
       "5  BDAEDBDEDA   45.890998     0     1       0  \n",
       "6  ACBCAAAHHE  358.058637     1     0       1  \n",
       "7  BBBDBBEPDB -113.797366     1     1       0  \n",
       "8  ACAEBADDAA  -52.223857     0     0       0  \n",
       "9  BABCBBBABD  -42.976312     0     0       1  \n",
       "\n",
       "[10 rows x 33 columns]"
      ]
     },
     "execution_count": 70,
     "metadata": {},
     "output_type": "execute_result"
    }
   ],
   "source": [
    "tr_data.head(10)"
   ]
  },
  {
   "cell_type": "code",
   "execution_count": 93,
   "metadata": {},
   "outputs": [
    {
     "data": {
      "text/plain": [
       "Index(['id', 'f_00', 'f_01', 'f_02', 'f_03', 'f_04', 'f_05', 'f_06', 'f_07',\n",
       "       'f_08', 'f_09', 'f_10', 'f_11', 'f_12', 'f_13', 'f_14', 'f_15', 'f_16',\n",
       "       'f_17', 'f_18', 'f_19', 'f_20', 'f_21', 'f_22', 'f_23', 'f_24', 'f_25',\n",
       "       'f_26', 'f_27', 'f_28', 'f_29', 'f_30', 'target'],\n",
       "      dtype='object')"
      ]
     },
     "execution_count": 93,
     "metadata": {},
     "output_type": "execute_result"
    }
   ],
   "source": [
    "tr_data.columns"
   ]
  },
  {
   "cell_type": "code",
   "execution_count": 94,
   "metadata": {},
   "outputs": [
    {
     "data": {
      "text/plain": [
       "id          int64\n",
       "f_00      float64\n",
       "f_01      float64\n",
       "f_02      float64\n",
       "f_03      float64\n",
       "f_04      float64\n",
       "f_05      float64\n",
       "f_06      float64\n",
       "f_07        int64\n",
       "f_08        int64\n",
       "f_09        int64\n",
       "f_10        int64\n",
       "f_11        int64\n",
       "f_12        int64\n",
       "f_13        int64\n",
       "f_14        int64\n",
       "f_15        int64\n",
       "f_16        int64\n",
       "f_17        int64\n",
       "f_18        int64\n",
       "f_19      float64\n",
       "f_20      float64\n",
       "f_21      float64\n",
       "f_22      float64\n",
       "f_23      float64\n",
       "f_24      float64\n",
       "f_25      float64\n",
       "f_26      float64\n",
       "f_27       object\n",
       "f_28      float64\n",
       "f_29        int64\n",
       "f_30        int64\n",
       "target      int64\n",
       "dtype: object"
      ]
     },
     "execution_count": 94,
     "metadata": {},
     "output_type": "execute_result"
    }
   ],
   "source": [
    "tr_data.dtypes"
   ]
  },
  {
   "cell_type": "code",
   "execution_count": 95,
   "metadata": {},
   "outputs": [
    {
     "data": {
      "text/plain": [
       "dtype('O')"
      ]
     },
     "execution_count": 95,
     "metadata": {},
     "output_type": "execute_result"
    }
   ],
   "source": [
    "tr_data['f_27'].dtypes"
   ]
  },
  {
   "cell_type": "code",
   "execution_count": null,
   "metadata": {},
   "outputs": [],
   "source": []
  },
  {
   "cell_type": "code",
   "execution_count": 71,
   "metadata": {},
   "outputs": [],
   "source": [
    "one = tr_data[tr_data['target'] == 1]\n",
    "zero = tr_data[tr_data['target'] == 0]"
   ]
  },
  {
   "cell_type": "code",
   "execution_count": 72,
   "metadata": {},
   "outputs": [
    {
     "name": "stdout",
     "output_type": "stream",
     "text": [
      "Proportion of target is:  0.9473733179562966\n"
     ]
    }
   ],
   "source": [
    "prop = len(one)/len(zero)\n",
    "print('Proportion of target is: ', prop )"
   ]
  },
  {
   "cell_type": "code",
   "execution_count": 73,
   "metadata": {},
   "outputs": [
    {
     "name": "stderr",
     "output_type": "stream",
     "text": [
      "c:\\Users\\Abubakr\\anaconda3\\envs\\ai\\lib\\site-packages\\seaborn\\_decorators.py:36: FutureWarning: Pass the following variable as a keyword arg: x. From version 0.12, the only valid positional argument will be `data`, and passing other arguments without an explicit keyword will result in an error or misinterpretation.\n",
      "  warnings.warn(\n"
     ]
    },
    {
     "data": {
      "image/png": "[encoded data removed]",
      "text/plain": [
       "<Figure size 1800x864 with 1 Axes>"
      ]
     },
     "metadata": {
      "needs_background": "light"
     },
     "output_type": "display_data"
    }
   ],
   "source": [
    "plt.figure(figsize=(25, 12))\n",
    "sns.countplot(tr_data['target'])\n",
    "plt.title('Balance of target')\n",
    "#plt.savefig('target_balance.png')\n",
    "plt.show()"
   ]
  },
  {
   "cell_type": "code",
   "execution_count": 74,
   "metadata": {},
   "outputs": [
    {
     "data": {
      "text/plain": [
       "array([ 1,  3,  6,  2,  5,  4,  0,  7,  8,  9, 10, 11, 12, 13, 14, 15],\n",
       "      dtype=int64)"
      ]
     },
     "execution_count": 74,
     "metadata": {},
     "output_type": "execute_result"
    }
   ],
   "source": [
    "tr_data['f_07'].unique()"
   ]
  },
  {
   "cell_type": "code",
   "execution_count": 75,
   "metadata": {},
   "outputs": [
    {
     "name": "stderr",
     "output_type": "stream",
     "text": [
      "c:\\Users\\Abubakr\\anaconda3\\envs\\ai\\lib\\site-packages\\seaborn\\_decorators.py:36: FutureWarning: Pass the following variable as a keyword arg: x. From version 0.12, the only valid positional argument will be `data`, and passing other arguments without an explicit keyword will result in an error or misinterpretation.\n",
      "  warnings.warn(\n"
     ]
    },
    {
     "data": {
      "image/png": "[encoded data removed]",
      "text/plain": [
       "<Figure size 1800x864 with 1 Axes>"
      ]
     },
     "metadata": {
      "needs_background": "light"
     },
     "output_type": "display_data"
    }
   ],
   "source": [
    "plt.figure(figsize=(25, 12))\n",
    "sns.countplot(tr_data['f_07'])\n",
    "plt.title('Elements of f_07')\n",
    "#plt.savefig('f_07.png')\n",
    "plt.show()"
   ]
  },
  {
   "cell_type": "code",
   "execution_count": 76,
   "metadata": {},
   "outputs": [
    {
     "data": {
      "text/plain": [
       "array([ 5,  3,  0,  2,  1,  7,  6,  4,  9,  8, 10, 11, 12, 13, 16, 14],\n",
       "      dtype=int64)"
      ]
     },
     "execution_count": 76,
     "metadata": {},
     "output_type": "execute_result"
    }
   ],
   "source": [
    "tr_data['f_08'].unique()"
   ]
  },
  {
   "cell_type": "code",
   "execution_count": 77,
   "metadata": {},
   "outputs": [
    {
     "name": "stderr",
     "output_type": "stream",
     "text": [
      "c:\\Users\\Abubakr\\anaconda3\\envs\\ai\\lib\\site-packages\\seaborn\\_decorators.py:36: FutureWarning: Pass the following variable as a keyword arg: x. From version 0.12, the only valid positional argument will be `data`, and passing other arguments without an explicit keyword will result in an error or misinterpretation.\n",
      "  warnings.warn(\n"
     ]
    },
    {
     "data": {
      "image/png": "[encoded data removed]",
      "text/plain": [
       "<Figure size 1800x864 with 1 Axes>"
      ]
     },
     "metadata": {
      "needs_background": "light"
     },
     "output_type": "display_data"
    }
   ],
   "source": [
    "plt.figure(figsize=(25, 12))\n",
    "sns.countplot(tr_data['f_08'])\n",
    "plt.title('Elements of f_08')\n",
    "#plt.savefig('f_08.png')\n",
    "plt.show()"
   ]
  },
  {
   "cell_type": "code",
   "execution_count": 78,
   "metadata": {},
   "outputs": [
    {
     "name": "stderr",
     "output_type": "stream",
     "text": [
      "c:\\Users\\Abubakr\\anaconda3\\envs\\ai\\lib\\site-packages\\seaborn\\_decorators.py:36: FutureWarning: Pass the following variable as a keyword arg: x. From version 0.12, the only valid positional argument will be `data`, and passing other arguments without an explicit keyword will result in an error or misinterpretation.\n",
      "  warnings.warn(\n"
     ]
    },
    {
     "data": {
      "image/png": "[encoded data removed]",
      "text/plain": [
       "<Figure size 1800x864 with 1 Axes>"
      ]
     },
     "metadata": {
      "needs_background": "light"
     },
     "output_type": "display_data"
    }
   ],
   "source": [
    "plt.figure(figsize=(25, 12))\n",
    "sns.countplot(tr_data['f_09'])\n",
    "plt.title('Elements of f_09')\n",
    "#plt.savefig('f_09.png')\n",
    "plt.show()"
   ]
  },
  {
   "cell_type": "code",
   "execution_count": 84,
   "metadata": {},
   "outputs": [
    {
     "name": "stderr",
     "output_type": "stream",
     "text": [
      "c:\\Users\\Abubakr\\anaconda3\\envs\\ai\\lib\\site-packages\\seaborn\\_decorators.py:36: FutureWarning: Pass the following variable as a keyword arg: x. From version 0.12, the only valid positional argument will be `data`, and passing other arguments without an explicit keyword will result in an error or misinterpretation.\n",
      "  warnings.warn(\n"
     ]
    },
    {
     "data": {
      "image/png": "[encoded data removed]",
      "text/plain": [
       "<Figure size 1800x864 with 1 Axes>"
      ]
     },
     "metadata": {
      "needs_background": "light"
     },
     "output_type": "display_data"
    }
   ],
   "source": [
    "plt.figure(figsize=(25, 12))\n",
    "sns.countplot(tr_data['f_10'])\n",
    "plt.title('Elements of f_10')\n",
    "#plt.savefig('f_10.png')\n",
    "plt.show()"
   ]
  },
  {
   "cell_type": "code",
   "execution_count": 85,
   "metadata": {},
   "outputs": [
    {
     "name": "stderr",
     "output_type": "stream",
     "text": [
      "c:\\Users\\Abubakr\\anaconda3\\envs\\ai\\lib\\site-packages\\seaborn\\_decorators.py:36: FutureWarning: Pass the following variable as a keyword arg: x. From version 0.12, the only valid positional argument will be `data`, and passing other arguments without an explicit keyword will result in an error or misinterpretation.\n",
      "  warnings.warn(\n"
     ]
    },
    {
     "data": {
      "image/png": "[encoded data removed]",
      "text/plain": [
       "<Figure size 1800x864 with 1 Axes>"
      ]
     },
     "metadata": {
      "needs_background": "light"
     },
     "output_type": "display_data"
    }
   ],
   "source": [
    "plt.figure(figsize=(25, 12))\n",
    "sns.countplot(tr_data['f_11'])\n",
    "plt.title('Elements of f_11')\n",
    "#plt.savefig('f_11.png')\n",
    "plt.show()"
   ]
  },
  {
   "cell_type": "code",
   "execution_count": 86,
   "metadata": {},
   "outputs": [
    {
     "name": "stderr",
     "output_type": "stream",
     "text": [
      "c:\\Users\\Abubakr\\anaconda3\\envs\\ai\\lib\\site-packages\\seaborn\\_decorators.py:36: FutureWarning: Pass the following variable as a keyword arg: x. From version 0.12, the only valid positional argument will be `data`, and passing other arguments without an explicit keyword will result in an error or misinterpretation.\n",
      "  warnings.warn(\n"
     ]
    },
    {
     "data": {
      "image/png": "[encoded data removed]",
      "text/plain": [
       "<Figure size 1800x864 with 1 Axes>"
      ]
     },
     "metadata": {
      "needs_background": "light"
     },
     "output_type": "display_data"
    }
   ],
   "source": [
    "plt.figure(figsize=(25, 12))\n",
    "sns.countplot(tr_data['f_12'])\n",
    "plt.title('Elements of f_12')\n",
    "#plt.savefig('f_12.png')\n",
    "plt.show()"
   ]
  },
  {
   "cell_type": "code",
   "execution_count": 87,
   "metadata": {},
   "outputs": [
    {
     "name": "stderr",
     "output_type": "stream",
     "text": [
      "c:\\Users\\Abubakr\\anaconda3\\envs\\ai\\lib\\site-packages\\seaborn\\_decorators.py:36: FutureWarning: Pass the following variable as a keyword arg: x. From version 0.12, the only valid positional argument will be `data`, and passing other arguments without an explicit keyword will result in an error or misinterpretation.\n",
      "  warnings.warn(\n"
     ]
    },
    {
     "data": {
      "image/png": "[encoded data removed]",
      "text/plain": [
       "<Figure size 1800x864 with 1 Axes>"
      ]
     },
     "metadata": {
      "needs_background": "light"
     },
     "output_type": "display_data"
    }
   ],
   "source": [
    "plt.figure(figsize=(25, 12))\n",
    "sns.countplot(tr_data['f_13'])\n",
    "plt.title('Elements of f_13')\n",
    "#plt.savefig('f_13.png')\n",
    "plt.show()"
   ]
  },
  {
   "cell_type": "code",
   "execution_count": 88,
   "metadata": {},
   "outputs": [
    {
     "name": "stderr",
     "output_type": "stream",
     "text": [
      "c:\\Users\\Abubakr\\anaconda3\\envs\\ai\\lib\\site-packages\\seaborn\\_decorators.py:36: FutureWarning: Pass the following variable as a keyword arg: x. From version 0.12, the only valid positional argument will be `data`, and passing other arguments without an explicit keyword will result in an error or misinterpretation.\n",
      "  warnings.warn(\n"
     ]
    },
    {
     "data": {
      "image/png": "[encoded data removed]",
      "text/plain": [
       "<Figure size 1800x864 with 1 Axes>"
      ]
     },
     "metadata": {
      "needs_background": "light"
     },
     "output_type": "display_data"
    }
   ],
   "source": [
    "plt.figure(figsize=(25, 12))\n",
    "sns.countplot(tr_data['f_14'])\n",
    "plt.title('Elements of f_14')\n",
    "#plt.savefig('f_14.png')\n",
    "plt.show()"
   ]
  },
  {
   "cell_type": "code",
   "execution_count": 89,
   "metadata": {},
   "outputs": [
    {
     "name": "stderr",
     "output_type": "stream",
     "text": [
      "c:\\Users\\Abubakr\\anaconda3\\envs\\ai\\lib\\site-packages\\seaborn\\_decorators.py:36: FutureWarning: Pass the following variable as a keyword arg: x. From version 0.12, the only valid positional argument will be `data`, and passing other arguments without an explicit keyword will result in an error or misinterpretation.\n",
      "  warnings.warn(\n"
     ]
    },
    {
     "data": {
      "image/png": "[encoded data removed]",
      "text/plain": [
       "<Figure size 1800x864 with 1 Axes>"
      ]
     },
     "metadata": {
      "needs_background": "light"
     },
     "output_type": "display_data"
    }
   ],
   "source": [
    "plt.figure(figsize=(25, 12))\n",
    "sns.countplot(tr_data['f_15'])\n",
    "plt.title('Elements of f_15')\n",
    "#plt.savefig('f_15.png')\n",
    "plt.show()"
   ]
  },
  {
   "cell_type": "code",
   "execution_count": 90,
   "metadata": {},
   "outputs": [
    {
     "name": "stderr",
     "output_type": "stream",
     "text": [
      "c:\\Users\\Abubakr\\anaconda3\\envs\\ai\\lib\\site-packages\\seaborn\\_decorators.py:36: FutureWarning: Pass the following variable as a keyword arg: x. From version 0.12, the only valid positional argument will be `data`, and passing other arguments without an explicit keyword will result in an error or misinterpretation.\n",
      "  warnings.warn(\n"
     ]
    },
    {
     "data": {
      "image/png": "[encoded data removed]",
      "text/plain": [
       "<Figure size 1800x864 with 1 Axes>"
      ]
     },
     "metadata": {
      "needs_background": "light"
     },
     "output_type": "display_data"
    }
   ],
   "source": [
    "plt.figure(figsize=(25, 12))\n",
    "sns.countplot(tr_data['f_16'])\n",
    "plt.title('Elements of f_16')\n",
    "#plt.savefig('f_16.png')\n",
    "plt.show()"
   ]
  },
  {
   "cell_type": "code",
   "execution_count": 91,
   "metadata": {},
   "outputs": [
    {
     "name": "stderr",
     "output_type": "stream",
     "text": [
      "c:\\Users\\Abubakr\\anaconda3\\envs\\ai\\lib\\site-packages\\seaborn\\_decorators.py:36: FutureWarning: Pass the following variable as a keyword arg: x. From version 0.12, the only valid positional argument will be `data`, and passing other arguments without an explicit keyword will result in an error or misinterpretation.\n",
      "  warnings.warn(\n"
     ]
    },
    {
     "data": {
      "image/png": "[encoded data removed]",
      "text/plain": [
       "<Figure size 1800x864 with 1 Axes>"
      ]
     },
     "metadata": {
      "needs_background": "light"
     },
     "output_type": "display_data"
    }
   ],
   "source": [
    "plt.figure(figsize=(25, 12))\n",
    "sns.countplot(tr_data['f_17'])\n",
    "plt.title('Elements of f_17')\n",
    "#plt.savefig('f_14.png')\n",
    "plt.show()"
   ]
  },
  {
   "cell_type": "code",
   "execution_count": 92,
   "metadata": {},
   "outputs": [
    {
     "name": "stderr",
     "output_type": "stream",
     "text": [
      "c:\\Users\\Abubakr\\anaconda3\\envs\\ai\\lib\\site-packages\\seaborn\\_decorators.py:36: FutureWarning: Pass the following variable as a keyword arg: x. From version 0.12, the only valid positional argument will be `data`, and passing other arguments without an explicit keyword will result in an error or misinterpretation.\n",
      "  warnings.warn(\n"
     ]
    },
    {
     "data": {
      "image/png": "[encoded data removed]",
      "text/plain": [
       "<Figure size 1800x864 with 1 Axes>"
      ]
     },
     "metadata": {
      "needs_background": "light"
     },
     "output_type": "display_data"
    }
   ],
   "source": [
    "plt.figure(figsize=(25, 12))\n",
    "sns.countplot(tr_data['f_18'])\n",
    "plt.title('Elements of f_18')\n",
    "#plt.savefig('f_18.png')\n",
    "plt.show()"
   ]
  },
  {
   "cell_type": "code",
   "execution_count": null,
   "metadata": {},
   "outputs": [],
   "source": []
  },
  {
   "cell_type": "code",
   "execution_count": 79,
   "metadata": {},
   "outputs": [
    {
     "name": "stderr",
     "output_type": "stream",
     "text": [
      "c:\\Users\\Abubakr\\anaconda3\\envs\\ai\\lib\\site-packages\\seaborn\\_decorators.py:36: FutureWarning: Pass the following variable as a keyword arg: x. From version 0.12, the only valid positional argument will be `data`, and passing other arguments without an explicit keyword will result in an error or misinterpretation.\n",
      "  warnings.warn(\n"
     ]
    },
    {
     "data": {
      "image/png": "[encoded data removed]",
      "text/plain": [
       "<Figure size 1800x864 with 1 Axes>"
      ]
     },
     "metadata": {
      "needs_background": "light"
     },
     "output_type": "display_data"
    }
   ],
   "source": [
    "plt.figure(figsize=(25, 12))\n",
    "sns.countplot(tr_data['f_29'])\n",
    "plt.title('Elements of f_29')\n",
    "#plt.savefig('f_29.png')\n",
    "plt.show()"
   ]
  },
  {
   "cell_type": "code",
   "execution_count": 80,
   "metadata": {},
   "outputs": [
    {
     "data": {
      "image/png": "[encoded data removed]",
      "text/plain": [
       "<Figure size 1800x864 with 1 Axes>"
      ]
     },
     "metadata": {
      "needs_background": "light"
     },
     "output_type": "display_data"
    }
   ],
   "source": [
    "plt.figure(figsize=(25, 12))\n",
    "sns.countplot(x='f_29', hue='target',data=tr_data.sort_values(by=['f_29']))\n",
    "plt.legend(loc='best')\n",
    "plt.title('f_29 per target')\n",
    "plt.show()\n",
    "#plt.savefig('data_per_user.png')"
   ]
  },
  {
   "cell_type": "code",
   "execution_count": 81,
   "metadata": {},
   "outputs": [
    {
     "name": "stderr",
     "output_type": "stream",
     "text": [
      "c:\\Users\\Abubakr\\anaconda3\\envs\\ai\\lib\\site-packages\\seaborn\\_decorators.py:36: FutureWarning: Pass the following variable as a keyword arg: x. From version 0.12, the only valid positional argument will be `data`, and passing other arguments without an explicit keyword will result in an error or misinterpretation.\n",
      "  warnings.warn(\n"
     ]
    },
    {
     "data": {
      "image/png": "[encoded data removed]",
      "text/plain": [
       "<Figure size 1800x864 with 1 Axes>"
      ]
     },
     "metadata": {
      "needs_background": "light"
     },
     "output_type": "display_data"
    }
   ],
   "source": [
    "plt.figure(figsize=(25, 12))\n",
    "sns.countplot(tr_data['f_30'])\n",
    "plt.title('Elements of f_30')\n",
    "#plt.savefig('f_30.png')\n",
    "plt.show()"
   ]
  },
  {
   "cell_type": "code",
   "execution_count": 82,
   "metadata": {},
   "outputs": [
    {
     "data": {
      "image/png": "[encoded data removed]",
      "text/plain": [
       "<Figure size 1800x864 with 1 Axes>"
      ]
     },
     "metadata": {
      "needs_background": "light"
     },
     "output_type": "display_data"
    }
   ],
   "source": [
    "plt.figure(figsize=(25, 12))\n",
    "sns.countplot(x='f_30', hue='target',data=tr_data.sort_values(by=['f_30']))\n",
    "plt.legend(loc='best')\n",
    "plt.title('f_30 per target')\n",
    "plt.show()\n",
    "#plt.savefig('data_per_user.png')"
   ]
  },
  {
   "cell_type": "code",
   "execution_count": 83,
   "metadata": {},
   "outputs": [
    {
     "data": {
      "text/html": [
       "<div>\n",
       "<style scoped>\n",
       "    .dataframe tbody tr th:only-of-type {\n",
       "        vertical-align: middle;\n",
       "    }\n",
       "\n",
       "    .dataframe tbody tr th {\n",
       "        vertical-align: top;\n",
       "    }\n",
       "\n",
       "    .dataframe thead th {\n",
       "        text-align: right;\n",
       "    }\n",
       "</style>\n",
       "<table border=\"1\" class=\"dataframe\">\n",
       "  <thead>\n",
       "    <tr style=\"text-align: right;\">\n",
       "      <th></th>\n",
       "      <th>id</th>\n",
       "      <th>f_00</th>\n",
       "      <th>f_01</th>\n",
       "      <th>f_02</th>\n",
       "      <th>f_03</th>\n",
       "      <th>f_04</th>\n",
       "      <th>f_05</th>\n",
       "      <th>f_06</th>\n",
       "      <th>f_07</th>\n",
       "      <th>f_08</th>\n",
       "      <th>...</th>\n",
       "      <th>f_21</th>\n",
       "      <th>f_22</th>\n",
       "      <th>f_23</th>\n",
       "      <th>f_24</th>\n",
       "      <th>f_25</th>\n",
       "      <th>f_26</th>\n",
       "      <th>f_27</th>\n",
       "      <th>f_28</th>\n",
       "      <th>f_29</th>\n",
       "      <th>f_30</th>\n",
       "    </tr>\n",
       "  </thead>\n",
       "  <tbody>\n",
       "    <tr>\n",
       "      <th>0</th>\n",
       "      <td>900000</td>\n",
       "      <td>0.442517</td>\n",
       "      <td>0.174380</td>\n",
       "      <td>-0.999816</td>\n",
       "      <td>0.762741</td>\n",
       "      <td>0.186778</td>\n",
       "      <td>-1.074775</td>\n",
       "      <td>0.501888</td>\n",
       "      <td>6</td>\n",
       "      <td>6</td>\n",
       "      <td>...</td>\n",
       "      <td>-1.006400</td>\n",
       "      <td>-1.193879</td>\n",
       "      <td>-2.435736</td>\n",
       "      <td>-2.427430</td>\n",
       "      <td>-1.966887</td>\n",
       "      <td>5.734205</td>\n",
       "      <td>BAAABADLAC</td>\n",
       "      <td>99.478419</td>\n",
       "      <td>0</td>\n",
       "      <td>0</td>\n",
       "    </tr>\n",
       "    <tr>\n",
       "      <th>1</th>\n",
       "      <td>900001</td>\n",
       "      <td>-0.605598</td>\n",
       "      <td>-0.305715</td>\n",
       "      <td>0.627667</td>\n",
       "      <td>-0.578898</td>\n",
       "      <td>-1.750931</td>\n",
       "      <td>1.355550</td>\n",
       "      <td>-0.190911</td>\n",
       "      <td>1</td>\n",
       "      <td>3</td>\n",
       "      <td>...</td>\n",
       "      <td>2.382405</td>\n",
       "      <td>0.149442</td>\n",
       "      <td>1.883322</td>\n",
       "      <td>-2.848714</td>\n",
       "      <td>-0.725155</td>\n",
       "      <td>3.194219</td>\n",
       "      <td>AFABBAEGCB</td>\n",
       "      <td>-65.993825</td>\n",
       "      <td>1</td>\n",
       "      <td>0</td>\n",
       "    </tr>\n",
       "    <tr>\n",
       "      <th>2</th>\n",
       "      <td>900002</td>\n",
       "      <td>0.303990</td>\n",
       "      <td>2.445110</td>\n",
       "      <td>0.246515</td>\n",
       "      <td>0.818248</td>\n",
       "      <td>0.359731</td>\n",
       "      <td>-1.331845</td>\n",
       "      <td>1.358622</td>\n",
       "      <td>3</td>\n",
       "      <td>3</td>\n",
       "      <td>...</td>\n",
       "      <td>-7.026098</td>\n",
       "      <td>1.312277</td>\n",
       "      <td>-5.157192</td>\n",
       "      <td>1.714005</td>\n",
       "      <td>0.585032</td>\n",
       "      <td>0.066898</td>\n",
       "      <td>BBACABBKEE</td>\n",
       "      <td>-87.405622</td>\n",
       "      <td>0</td>\n",
       "      <td>1</td>\n",
       "    </tr>\n",
       "    <tr>\n",
       "      <th>3</th>\n",
       "      <td>900003</td>\n",
       "      <td>0.154053</td>\n",
       "      <td>0.260126</td>\n",
       "      <td>-1.367092</td>\n",
       "      <td>-0.093175</td>\n",
       "      <td>-1.111034</td>\n",
       "      <td>-0.948481</td>\n",
       "      <td>1.119220</td>\n",
       "      <td>0</td>\n",
       "      <td>0</td>\n",
       "      <td>...</td>\n",
       "      <td>-0.594532</td>\n",
       "      <td>-3.939475</td>\n",
       "      <td>1.754570</td>\n",
       "      <td>-2.364007</td>\n",
       "      <td>-1.003320</td>\n",
       "      <td>3.893099</td>\n",
       "      <td>AEBEAACQCC</td>\n",
       "      <td>-281.293460</td>\n",
       "      <td>0</td>\n",
       "      <td>0</td>\n",
       "    </tr>\n",
       "    <tr>\n",
       "      <th>4</th>\n",
       "      <td>900004</td>\n",
       "      <td>-1.651904</td>\n",
       "      <td>-0.424266</td>\n",
       "      <td>-0.667356</td>\n",
       "      <td>-0.322124</td>\n",
       "      <td>-0.089462</td>\n",
       "      <td>0.181705</td>\n",
       "      <td>1.784983</td>\n",
       "      <td>2</td>\n",
       "      <td>2</td>\n",
       "      <td>...</td>\n",
       "      <td>0.084906</td>\n",
       "      <td>-0.985736</td>\n",
       "      <td>-0.130467</td>\n",
       "      <td>-3.557893</td>\n",
       "      <td>1.210687</td>\n",
       "      <td>1.861884</td>\n",
       "      <td>AEBBBBDABF</td>\n",
       "      <td>25.629415</td>\n",
       "      <td>0</td>\n",
       "      <td>2</td>\n",
       "    </tr>\n",
       "    <tr>\n",
       "      <th>5</th>\n",
       "      <td>900005</td>\n",
       "      <td>-1.403337</td>\n",
       "      <td>-0.867727</td>\n",
       "      <td>-2.557340</td>\n",
       "      <td>0.319702</td>\n",
       "      <td>1.784916</td>\n",
       "      <td>0.104167</td>\n",
       "      <td>-0.603412</td>\n",
       "      <td>2</td>\n",
       "      <td>3</td>\n",
       "      <td>...</td>\n",
       "      <td>1.719947</td>\n",
       "      <td>2.182098</td>\n",
       "      <td>-2.820676</td>\n",
       "      <td>-1.311447</td>\n",
       "      <td>2.364910</td>\n",
       "      <td>2.511971</td>\n",
       "      <td>BCBDBADODB</td>\n",
       "      <td>-278.119587</td>\n",
       "      <td>0</td>\n",
       "      <td>1</td>\n",
       "    </tr>\n",
       "    <tr>\n",
       "      <th>6</th>\n",
       "      <td>900006</td>\n",
       "      <td>-1.003101</td>\n",
       "      <td>0.346448</td>\n",
       "      <td>-0.967384</td>\n",
       "      <td>0.205720</td>\n",
       "      <td>-0.222118</td>\n",
       "      <td>0.542176</td>\n",
       "      <td>1.876015</td>\n",
       "      <td>1</td>\n",
       "      <td>1</td>\n",
       "      <td>...</td>\n",
       "      <td>2.477149</td>\n",
       "      <td>-1.009772</td>\n",
       "      <td>4.249834</td>\n",
       "      <td>-4.469575</td>\n",
       "      <td>-2.079890</td>\n",
       "      <td>-0.079569</td>\n",
       "      <td>BCBBCBCTAA</td>\n",
       "      <td>33.471210</td>\n",
       "      <td>0</td>\n",
       "      <td>0</td>\n",
       "    </tr>\n",
       "    <tr>\n",
       "      <th>7</th>\n",
       "      <td>900007</td>\n",
       "      <td>-0.427195</td>\n",
       "      <td>-0.533406</td>\n",
       "      <td>-0.258823</td>\n",
       "      <td>0.351873</td>\n",
       "      <td>-0.840579</td>\n",
       "      <td>-1.550993</td>\n",
       "      <td>-0.500880</td>\n",
       "      <td>1</td>\n",
       "      <td>2</td>\n",
       "      <td>...</td>\n",
       "      <td>-0.723007</td>\n",
       "      <td>1.412164</td>\n",
       "      <td>4.345623</td>\n",
       "      <td>-1.684503</td>\n",
       "      <td>-1.526389</td>\n",
       "      <td>-0.857217</td>\n",
       "      <td>AABDABERCG</td>\n",
       "      <td>-204.221890</td>\n",
       "      <td>1</td>\n",
       "      <td>0</td>\n",
       "    </tr>\n",
       "    <tr>\n",
       "      <th>8</th>\n",
       "      <td>900008</td>\n",
       "      <td>1.834775</td>\n",
       "      <td>-0.090259</td>\n",
       "      <td>-1.099693</td>\n",
       "      <td>1.326697</td>\n",
       "      <td>-1.491364</td>\n",
       "      <td>-0.739023</td>\n",
       "      <td>-0.265672</td>\n",
       "      <td>1</td>\n",
       "      <td>2</td>\n",
       "      <td>...</td>\n",
       "      <td>6.229305</td>\n",
       "      <td>-7.176264</td>\n",
       "      <td>0.430175</td>\n",
       "      <td>-0.648878</td>\n",
       "      <td>-1.555777</td>\n",
       "      <td>4.854745</td>\n",
       "      <td>ABACCBCBBB</td>\n",
       "      <td>219.479482</td>\n",
       "      <td>0</td>\n",
       "      <td>1</td>\n",
       "    </tr>\n",
       "    <tr>\n",
       "      <th>9</th>\n",
       "      <td>900009</td>\n",
       "      <td>-0.798574</td>\n",
       "      <td>2.248541</td>\n",
       "      <td>-0.117418</td>\n",
       "      <td>-0.094104</td>\n",
       "      <td>0.651434</td>\n",
       "      <td>0.370021</td>\n",
       "      <td>1.285483</td>\n",
       "      <td>5</td>\n",
       "      <td>2</td>\n",
       "      <td>...</td>\n",
       "      <td>-0.717400</td>\n",
       "      <td>0.585628</td>\n",
       "      <td>-1.026967</td>\n",
       "      <td>1.330326</td>\n",
       "      <td>-2.294380</td>\n",
       "      <td>-1.184475</td>\n",
       "      <td>AEBCAACAEF</td>\n",
       "      <td>485.559549</td>\n",
       "      <td>0</td>\n",
       "      <td>0</td>\n",
       "    </tr>\n",
       "    <tr>\n",
       "      <th>10</th>\n",
       "      <td>900010</td>\n",
       "      <td>-0.432949</td>\n",
       "      <td>1.285230</td>\n",
       "      <td>1.137705</td>\n",
       "      <td>-1.313711</td>\n",
       "      <td>-0.591921</td>\n",
       "      <td>0.953449</td>\n",
       "      <td>0.770494</td>\n",
       "      <td>1</td>\n",
       "      <td>0</td>\n",
       "      <td>...</td>\n",
       "      <td>-0.131832</td>\n",
       "      <td>-0.615954</td>\n",
       "      <td>-3.175136</td>\n",
       "      <td>1.264138</td>\n",
       "      <td>2.148080</td>\n",
       "      <td>-1.434627</td>\n",
       "      <td>AAABBBFIGC</td>\n",
       "      <td>-111.632111</td>\n",
       "      <td>0</td>\n",
       "      <td>0</td>\n",
       "    </tr>\n",
       "    <tr>\n",
       "      <th>11</th>\n",
       "      <td>900011</td>\n",
       "      <td>0.083300</td>\n",
       "      <td>-0.049162</td>\n",
       "      <td>-1.298274</td>\n",
       "      <td>-0.710489</td>\n",
       "      <td>-0.851231</td>\n",
       "      <td>-0.986893</td>\n",
       "      <td>-0.829989</td>\n",
       "      <td>2</td>\n",
       "      <td>3</td>\n",
       "      <td>...</td>\n",
       "      <td>0.132275</td>\n",
       "      <td>-2.391425</td>\n",
       "      <td>2.727632</td>\n",
       "      <td>2.183017</td>\n",
       "      <td>-3.858592</td>\n",
       "      <td>-0.589734</td>\n",
       "      <td>ABABFBEDDA</td>\n",
       "      <td>-126.501556</td>\n",
       "      <td>1</td>\n",
       "      <td>0</td>\n",
       "    </tr>\n",
       "    <tr>\n",
       "      <th>12</th>\n",
       "      <td>900012</td>\n",
       "      <td>-2.419847</td>\n",
       "      <td>0.353040</td>\n",
       "      <td>1.616370</td>\n",
       "      <td>-0.019336</td>\n",
       "      <td>2.220805</td>\n",
       "      <td>-0.055155</td>\n",
       "      <td>0.469429</td>\n",
       "      <td>5</td>\n",
       "      <td>4</td>\n",
       "      <td>...</td>\n",
       "      <td>0.530082</td>\n",
       "      <td>0.348074</td>\n",
       "      <td>-4.036751</td>\n",
       "      <td>1.882486</td>\n",
       "      <td>1.974605</td>\n",
       "      <td>-2.726654</td>\n",
       "      <td>BEBDBADDDF</td>\n",
       "      <td>41.029019</td>\n",
       "      <td>0</td>\n",
       "      <td>0</td>\n",
       "    </tr>\n",
       "    <tr>\n",
       "      <th>13</th>\n",
       "      <td>900013</td>\n",
       "      <td>0.899446</td>\n",
       "      <td>-1.564123</td>\n",
       "      <td>2.323609</td>\n",
       "      <td>-0.230393</td>\n",
       "      <td>-0.100992</td>\n",
       "      <td>1.023774</td>\n",
       "      <td>-1.309173</td>\n",
       "      <td>1</td>\n",
       "      <td>6</td>\n",
       "      <td>...</td>\n",
       "      <td>0.610809</td>\n",
       "      <td>-0.851013</td>\n",
       "      <td>-2.361040</td>\n",
       "      <td>-1.494759</td>\n",
       "      <td>-0.814477</td>\n",
       "      <td>2.416015</td>\n",
       "      <td>BDADABCQEA</td>\n",
       "      <td>124.553045</td>\n",
       "      <td>0</td>\n",
       "      <td>2</td>\n",
       "    </tr>\n",
       "    <tr>\n",
       "      <th>14</th>\n",
       "      <td>900014</td>\n",
       "      <td>-0.104107</td>\n",
       "      <td>0.639235</td>\n",
       "      <td>0.310454</td>\n",
       "      <td>-0.244614</td>\n",
       "      <td>1.286928</td>\n",
       "      <td>0.642940</td>\n",
       "      <td>0.224201</td>\n",
       "      <td>2</td>\n",
       "      <td>1</td>\n",
       "      <td>...</td>\n",
       "      <td>-4.707238</td>\n",
       "      <td>4.068069</td>\n",
       "      <td>0.835803</td>\n",
       "      <td>1.222106</td>\n",
       "      <td>-5.108057</td>\n",
       "      <td>-4.235950</td>\n",
       "      <td>BDAABABTEE</td>\n",
       "      <td>457.627330</td>\n",
       "      <td>1</td>\n",
       "      <td>1</td>\n",
       "    </tr>\n",
       "    <tr>\n",
       "      <th>15</th>\n",
       "      <td>900015</td>\n",
       "      <td>1.214498</td>\n",
       "      <td>0.583975</td>\n",
       "      <td>0.025244</td>\n",
       "      <td>-1.941861</td>\n",
       "      <td>-0.195467</td>\n",
       "      <td>0.189508</td>\n",
       "      <td>-0.489437</td>\n",
       "      <td>3</td>\n",
       "      <td>2</td>\n",
       "      <td>...</td>\n",
       "      <td>1.972038</td>\n",
       "      <td>-0.805655</td>\n",
       "      <td>-0.179505</td>\n",
       "      <td>-2.698756</td>\n",
       "      <td>0.215355</td>\n",
       "      <td>-2.956433</td>\n",
       "      <td>AABBBACBGD</td>\n",
       "      <td>-115.095513</td>\n",
       "      <td>1</td>\n",
       "      <td>1</td>\n",
       "    </tr>\n",
       "    <tr>\n",
       "      <th>16</th>\n",
       "      <td>900016</td>\n",
       "      <td>1.658829</td>\n",
       "      <td>1.860496</td>\n",
       "      <td>1.306780</td>\n",
       "      <td>0.991812</td>\n",
       "      <td>1.617588</td>\n",
       "      <td>-1.000323</td>\n",
       "      <td>0.177202</td>\n",
       "      <td>2</td>\n",
       "      <td>1</td>\n",
       "      <td>...</td>\n",
       "      <td>-3.593159</td>\n",
       "      <td>-0.728869</td>\n",
       "      <td>-0.139228</td>\n",
       "      <td>0.581374</td>\n",
       "      <td>0.983403</td>\n",
       "      <td>-0.262534</td>\n",
       "      <td>ACBCDBDTCB</td>\n",
       "      <td>393.568479</td>\n",
       "      <td>0</td>\n",
       "      <td>2</td>\n",
       "    </tr>\n",
       "    <tr>\n",
       "      <th>17</th>\n",
       "      <td>900017</td>\n",
       "      <td>1.506193</td>\n",
       "      <td>0.128195</td>\n",
       "      <td>0.832897</td>\n",
       "      <td>-0.614659</td>\n",
       "      <td>0.961406</td>\n",
       "      <td>1.898855</td>\n",
       "      <td>0.615834</td>\n",
       "      <td>3</td>\n",
       "      <td>2</td>\n",
       "      <td>...</td>\n",
       "      <td>-4.689984</td>\n",
       "      <td>2.899531</td>\n",
       "      <td>3.239646</td>\n",
       "      <td>-4.967412</td>\n",
       "      <td>6.543763</td>\n",
       "      <td>2.990271</td>\n",
       "      <td>BCBBBBCKBA</td>\n",
       "      <td>13.314892</td>\n",
       "      <td>0</td>\n",
       "      <td>2</td>\n",
       "    </tr>\n",
       "    <tr>\n",
       "      <th>18</th>\n",
       "      <td>900018</td>\n",
       "      <td>-0.168397</td>\n",
       "      <td>0.540103</td>\n",
       "      <td>0.492116</td>\n",
       "      <td>-1.121744</td>\n",
       "      <td>0.312839</td>\n",
       "      <td>0.464949</td>\n",
       "      <td>-0.987970</td>\n",
       "      <td>8</td>\n",
       "      <td>5</td>\n",
       "      <td>...</td>\n",
       "      <td>1.901131</td>\n",
       "      <td>0.589888</td>\n",
       "      <td>-0.507091</td>\n",
       "      <td>0.459913</td>\n",
       "      <td>0.312591</td>\n",
       "      <td>1.913524</td>\n",
       "      <td>BEAAAAFREC</td>\n",
       "      <td>-223.619633</td>\n",
       "      <td>0</td>\n",
       "      <td>0</td>\n",
       "    </tr>\n",
       "    <tr>\n",
       "      <th>19</th>\n",
       "      <td>900019</td>\n",
       "      <td>-1.881061</td>\n",
       "      <td>0.433361</td>\n",
       "      <td>0.819007</td>\n",
       "      <td>0.052543</td>\n",
       "      <td>-0.956330</td>\n",
       "      <td>0.801104</td>\n",
       "      <td>0.542910</td>\n",
       "      <td>2</td>\n",
       "      <td>0</td>\n",
       "      <td>...</td>\n",
       "      <td>-2.404812</td>\n",
       "      <td>1.350221</td>\n",
       "      <td>1.330160</td>\n",
       "      <td>-0.326258</td>\n",
       "      <td>-2.107388</td>\n",
       "      <td>-0.954810</td>\n",
       "      <td>ACAHBBBJAC</td>\n",
       "      <td>-371.356038</td>\n",
       "      <td>0</td>\n",
       "      <td>0</td>\n",
       "    </tr>\n",
       "  </tbody>\n",
       "</table>\n",
       "<p>20 rows × 32 columns</p>\n",
       "</div>"
      ],
      "text/plain": [
       "        id      f_00      f_01      f_02      f_03      f_04      f_05  \\\n",
       "0   900000  0.442517  0.174380 -0.999816  0.762741  0.186778 -1.074775   \n",
       "1   900001 -0.605598 -0.305715  0.627667 -0.578898 -1.750931  1.355550   \n",
       "2   900002  0.303990  2.445110  0.246515  0.818248  0.359731 -1.331845   \n",
       "3   900003  0.154053  0.260126 -1.367092 -0.093175 -1.111034 -0.948481   \n",
       "4   900004 -1.651904 -0.424266 -0.667356 -0.322124 -0.089462  0.181705   \n",
       "5   900005 -1.403337 -0.867727 -2.557340  0.319702  1.784916  0.104167   \n",
       "6   900006 -1.003101  0.346448 -0.967384  0.205720 -0.222118  0.542176   \n",
       "7   900007 -0.427195 -0.533406 -0.258823  0.351873 -0.840579 -1.550993   \n",
       "8   900008  1.834775 -0.090259 -1.099693  1.326697 -1.491364 -0.739023   \n",
       "9   900009 -0.798574  2.248541 -0.117418 -0.094104  0.651434  0.370021   \n",
       "10  900010 -0.432949  1.285230  1.137705 -1.313711 -0.591921  0.953449   \n",
       "11  900011  0.083300 -0.049162 -1.298274 -0.710489 -0.851231 -0.986893   \n",
       "12  900012 -2.419847  0.353040  1.616370 -0.019336  2.220805 -0.055155   \n",
       "13  900013  0.899446 -1.564123  2.323609 -0.230393 -0.100992  1.023774   \n",
       "14  900014 -0.104107  0.639235  0.310454 -0.244614  1.286928  0.642940   \n",
       "15  900015  1.214498  0.583975  0.025244 -1.941861 -0.195467  0.189508   \n",
       "16  900016  1.658829  1.860496  1.306780  0.991812  1.617588 -1.000323   \n",
       "17  900017  1.506193  0.128195  0.832897 -0.614659  0.961406  1.898855   \n",
       "18  900018 -0.168397  0.540103  0.492116 -1.121744  0.312839  0.464949   \n",
       "19  900019 -1.881061  0.433361  0.819007  0.052543 -0.956330  0.801104   \n",
       "\n",
       "        f_06  f_07  f_08  ...      f_21      f_22      f_23      f_24  \\\n",
       "0   0.501888     6     6  ... -1.006400 -1.193879 -2.435736 -2.427430   \n",
       "1  -0.190911     1     3  ...  2.382405  0.149442  1.883322 -2.848714   \n",
       "2   1.358622     3     3  ... -7.026098  1.312277 -5.157192  1.714005   \n",
       "3   1.119220     0     0  ... -0.594532 -3.939475  1.754570 -2.364007   \n",
       "4   1.784983     2     2  ...  0.084906 -0.985736 -0.130467 -3.557893   \n",
       "5  -0.603412     2     3  ...  1.719947  2.182098 -2.820676 -1.311447   \n",
       "6   1.876015     1     1  ...  2.477149 -1.009772  4.249834 -4.469575   \n",
       "7  -0.500880     1     2  ... -0.723007  1.412164  4.345623 -1.684503   \n",
       "8  -0.265672     1     2  ...  6.229305 -7.176264  0.430175 -0.648878   \n",
       "9   1.285483     5     2  ... -0.717400  0.585628 -1.026967  1.330326   \n",
       "10  0.770494     1     0  ... -0.131832 -0.615954 -3.175136  1.264138   \n",
       "11 -0.829989     2     3  ...  0.132275 -2.391425  2.727632  2.183017   \n",
       "12  0.469429     5     4  ...  0.530082  0.348074 -4.036751  1.882486   \n",
       "13 -1.309173     1     6  ...  0.610809 -0.851013 -2.361040 -1.494759   \n",
       "14  0.224201     2     1  ... -4.707238  4.068069  0.835803  1.222106   \n",
       "15 -0.489437     3     2  ...  1.972038 -0.805655 -0.179505 -2.698756   \n",
       "16  0.177202     2     1  ... -3.593159 -0.728869 -0.139228  0.581374   \n",
       "17  0.615834     3     2  ... -4.689984  2.899531  3.239646 -4.967412   \n",
       "18 -0.987970     8     5  ...  1.901131  0.589888 -0.507091  0.459913   \n",
       "19  0.542910     2     0  ... -2.404812  1.350221  1.330160 -0.326258   \n",
       "\n",
       "        f_25      f_26        f_27        f_28  f_29  f_30  \n",
       "0  -1.966887  5.734205  BAAABADLAC   99.478419     0     0  \n",
       "1  -0.725155  3.194219  AFABBAEGCB  -65.993825     1     0  \n",
       "2   0.585032  0.066898  BBACABBKEE  -87.405622     0     1  \n",
       "3  -1.003320  3.893099  AEBEAACQCC -281.293460     0     0  \n",
       "4   1.210687  1.861884  AEBBBBDABF   25.629415     0     2  \n",
       "5   2.364910  2.511971  BCBDBADODB -278.119587     0     1  \n",
       "6  -2.079890 -0.079569  BCBBCBCTAA   33.471210     0     0  \n",
       "7  -1.526389 -0.857217  AABDABERCG -204.221890     1     0  \n",
       "8  -1.555777  4.854745  ABACCBCBBB  219.479482     0     1  \n",
       "9  -2.294380 -1.184475  AEBCAACAEF  485.559549     0     0  \n",
       "10  2.148080 -1.434627  AAABBBFIGC -111.632111     0     0  \n",
       "11 -3.858592 -0.589734  ABABFBEDDA -126.501556     1     0  \n",
       "12  1.974605 -2.726654  BEBDBADDDF   41.029019     0     0  \n",
       "13 -0.814477  2.416015  BDADABCQEA  124.553045     0     2  \n",
       "14 -5.108057 -4.235950  BDAABABTEE  457.627330     1     1  \n",
       "15  0.215355 -2.956433  AABBBACBGD -115.095513     1     1  \n",
       "16  0.983403 -0.262534  ACBCDBDTCB  393.568479     0     2  \n",
       "17  6.543763  2.990271  BCBBBBCKBA   13.314892     0     2  \n",
       "18  0.312591  1.913524  BEAAAAFREC -223.619633     0     0  \n",
       "19 -2.107388 -0.954810  ACAHBBBJAC -371.356038     0     0  \n",
       "\n",
       "[20 rows x 32 columns]"
      ]
     },
     "execution_count": 83,
     "metadata": {},
     "output_type": "execute_result"
    }
   ],
   "source": [
    "ts_data.head(20)"
   ]
  }
 ],
 "metadata": {
  "interpreter": {
   "hash": "cc07238ac7c2b38f9c0e5c1839fc8413276f3ee21f02ba8f81343d897e0d7adc"
  },
  "kernelspec": {
   "display_name": "Python 3.9.12 ('ai')",
   "language": "python",
   "name": "python3"
  },
  "language_info": {
   "codemirror_mode": {
    "name": "ipython",
    "version": 3
   },
   "file_extension": ".py",
   "mimetype": "text/x-python",
   "name": "python",
   "nbconvert_exporter": "python",
   "pygments_lexer": "ipython3",
   "version": "3.9.12"
  },
  "orig_nbformat": 4
 },
 "nbformat": 4,
 "nbformat_minor": 2
}
